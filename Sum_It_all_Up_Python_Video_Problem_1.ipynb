{
  "nbformat": 4,
  "nbformat_minor": 0,
  "metadata": {
    "colab": {
      "name": "Sum It all Up - Python Video - Problem 1.ipynb",
      "provenance": [],
      "collapsed_sections": [],
      "authorship_tag": "ABX9TyPV6Sxokvf3yoDxxusO4w6q",
      "include_colab_link": true
    },
    "kernelspec": {
      "name": "python3",
      "display_name": "Python 3"
    },
    "language_info": {
      "name": "python"
    }
  },
  "cells": [
    {
      "cell_type": "markdown",
      "metadata": {
        "id": "view-in-github",
        "colab_type": "text"
      },
      "source": [
        "<a href=\"https://colab.research.google.com/github/armindocachada/python-for-beginners-exercises/blob/main/Sum_It_all_Up_Python_Video_Problem_1.ipynb\" target=\"_parent\"><img src=\"https://colab.research.google.com/assets/colab-badge.svg\" alt=\"Open In Colab\"/></a>"
      ]
    },
    {
      "cell_type": "markdown",
      "source": [
        "# Python Problem Number 1 - Sum all the integers from zero to N\n",
        "\n",
        "Create a Python function that sums all the numbers from 0 to a number N. If a non-positive or a non-integer number is provided, the function should return 0.\n",
        "\n",
        "\n",
        "This Google Colab notebook is part of my \"Python Problemns for Beginners\" Youtube series: https://youtube.com/playlist?list=PL3OV2Akk7XpC-fsHuJ3RLpnzOXmED7oAI\n",
        "\n",
        "In this video, the first in the series, I show you how to solve a simple Python problem using three different solutions, and while making sure we write unit tests. A good habit to learn and develop from early on.\n",
        "This is our warm-up exercise, more to come!\n",
        "\n",
        "\n",
        "\n",
        "\n",
        "\n",
        "\n"
      ],
      "metadata": {
        "id": "uvYj8pCuPTbB"
      }
    },
    {
      "cell_type": "markdown",
      "source": [
        "## Python Solution 1 - Using Recursion"
      ],
      "metadata": {
        "id": "CIEAa2yRW3Nq"
      }
    },
    {
      "cell_type": "code",
      "execution_count": 2,
      "metadata": {
        "id": "YM9h-RdAM72t"
      },
      "outputs": [],
      "source": [
        "def sum_all_up(number:int) -> int:\n",
        "  if number > 0:\n",
        "    return number + sum_all_up(number - 1) \n",
        "  else:\n",
        "    return 0"
      ]
    },
    {
      "cell_type": "markdown",
      "source": [
        "Python Solution 2 - Using sum() and range() function in Python"
      ],
      "metadata": {
        "id": "4iGtUO83X3A-"
      }
    },
    {
      "cell_type": "code",
      "source": [
        "def sum_all_up(number:int) -> int:\n",
        "  return sum(range(number + 1))"
      ],
      "metadata": {
        "id": "_Yae0Q8zToSq"
      },
      "execution_count": 3,
      "outputs": []
    },
    {
      "cell_type": "markdown",
      "source": [
        "## Python Solution 3 - Using numpy.arange(..).sum()"
      ],
      "metadata": {
        "id": "lY-TUCOLYAaI"
      }
    },
    {
      "cell_type": "code",
      "source": [
        "import numpy\n",
        "\n",
        "def sum_all_up(number: int) -> int:\n",
        "  return numpy.arange(number + 1).sum()"
      ],
      "metadata": {
        "id": "pxXc3ZwEVXFQ"
      },
      "execution_count": 4,
      "outputs": []
    },
    {
      "cell_type": "markdown",
      "source": [
        "## Python Unit tests using Python unittest library "
      ],
      "metadata": {
        "id": "T6dJAZiaYJ_d"
      }
    },
    {
      "cell_type": "code",
      "source": [
        "import unittest\n",
        "\n",
        "class TestStringMethods(unittest.TestCase):\n",
        "\n",
        "  def test_sum_all_up_of_zero_returns_zero(self):\n",
        "    self.assertEqual(0, sum_all_up(0))\n",
        "\n",
        "  def test_sum_all_up_of_one_returns_one(self):\n",
        "    self.assertEqual(1, sum_all_up(1))\n",
        "  \n",
        "  def test_sum_all_up_of_two_returns_three(self):\n",
        "    self.assertEqual(3, sum_all_up(2))\n",
        "\n",
        "  def test_sum_all_up_of_three_returns_six(self):\n",
        "    self.assertEqual(6, sum_all_up(3))\n",
        "\n",
        "  def test_sum_all_up_of_four_returns_ten(self):\n",
        "    self.assertEqual(10, sum_all_up(4))\n",
        "\n",
        "  def test_sum_all_up_of_negative_number_returns_0(self):\n",
        "    self.assertEqual(0, sum_all_up(-10))\n",
        "\n"
      ],
      "metadata": {
        "id": "qAzWLcU4Qd3v"
      },
      "execution_count": 5,
      "outputs": []
    },
    {
      "cell_type": "code",
      "source": [
        "if __name__ == '__main__':\n",
        "   unittest.main(argv=['first-arg-is-ignored'], exit=False)"
      ],
      "metadata": {
        "colab": {
          "base_uri": "https://localhost:8080/"
        },
        "id": "C8wXXp2HQzFH",
        "outputId": "4d75b7dc-7f22-4fa2-d155-304f8ffaaffd"
      },
      "execution_count": null,
      "outputs": [
        {
          "output_type": "stream",
          "name": "stderr",
          "text": [
            "......\n",
            "----------------------------------------------------------------------\n",
            "Ran 6 tests in 0.013s\n",
            "\n",
            "OK\n"
          ]
        }
      ]
    },
    {
      "cell_type": "code",
      "source": [
        "sum(numpy.arange(2 + 1))"
      ],
      "metadata": {
        "colab": {
          "base_uri": "https://localhost:8080/"
        },
        "id": "iu-EP4K1WDWr",
        "outputId": "1c8553f8-1e7c-4ec2-b27e-7ff9711822fe"
      },
      "execution_count": null,
      "outputs": [
        {
          "output_type": "execute_result",
          "data": {
            "text/plain": [
              "3"
            ]
          },
          "metadata": {},
          "execution_count": 57
        }
      ]
    }
  ]
}