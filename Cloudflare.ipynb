{
  "nbformat": 4,
  "nbformat_minor": 0,
  "metadata": {
    "colab": {
      "name": "Cloudflare.ipynb",
      "provenance": [],
      "collapsed_sections": []
    },
    "kernelspec": {
      "name": "python3",
      "display_name": "Python 3"
    },
    "language_info": {
      "name": "python"
    }
  },
  "cells": [
    {
      "cell_type": "markdown",
      "source": [
        "# Python Exercise for Beginners - Getting a list of IP addresses to Whitelist for Cloudflare"
      ],
      "metadata": {
        "id": "y7cCQ7UO1Vke"
      }
    },
    {
      "cell_type": "markdown",
      "source": [
        "In today's video we are going to be working on a real-life Python script for Devops.\n",
        "\n",
        "Many websites in the world today are protected against DDoS attacks by Cloudflare. \n",
        "Cloudflare provides this protection by serving as an intermediary to all traffic from the web. So instead of a website visitor connecting to the server hosting the website, directly, the visitor connects to one of the servers from Cloudflare. In this way Cloudflare can filter all the requests which look suspicious.\n",
        "\n",
        "But this only works if an attacker doesn't bypass the servers from Cloudflare! \n",
        "\n",
        "If an attacker discovers the IP address of the server hosting the website, then it could attack the website directly!\n",
        "\n",
        "For that reason we need to prevent this by whitelisting all the IP addresses from Cloudflare, so that even if an attacker knows what the real IP address of our website, they will not be able to attack it so easily, because their IP address will not be included in the whitelisted list of IP addresses.\n",
        "\n",
        "Cloudflare provides a url https://www.cloudflare.com/ips-v4 and https://www.cloudflare.com/ips-v6 to download the range of IP addresses(CIDR) used by Cloudflare servers.\n",
        "\n",
        "We are going to be using Python to read the content of those urls and return as a result a list of strings containing all the CIDR for IPV4 and IPV6.\n",
        "\n",
        "We will also create a list of unit tests to ensure that our code always returns a non empty list of valid CIDR IP addresses."
      ],
      "metadata": {
        "id": "j1Af_nf22EFq"
      }
    },
    {
      "cell_type": "code",
      "source": [
        "def getIPAddresses(url):\n",
        "      headers = {\n",
        "        'User-Agent': 'My User Agent 1.0',\n",
        "        'From': 'youremail@domain.com'  # This is another valid field\n",
        "      }\n",
        "      result = []\n",
        "      try:\n",
        "        req = urllib.request.Request(url, headers=headers)\n",
        "        with urllib.request.urlopen(req) as f:\n",
        "            ips = f.read().decode('utf-8').split(\"\\n\")\n",
        "            result = ips\n",
        "      except urllib.error.URLError as e:\n",
        "        print(e.reason)\n",
        "\n",
        "      return result      "
      ],
      "metadata": {
        "id": "s080xefV6AVC"
      },
      "execution_count": 2,
      "outputs": []
    },
    {
      "cell_type": "code",
      "execution_count": 3,
      "metadata": {
        "id": "7zsZyim-z27C"
      },
      "outputs": [],
      "source": [
        "import urllib\n",
        "import urllib.request\n",
        "\n",
        "def whitelistCloudflareIps():\n",
        "    ips_v4 = getIPAddresses(\"https://www.cloudflare.com/ips-v4\")\n",
        "    ips_v6 = getIPAddresses(\"https://www.cloudflare.com/ips-v6\")\n",
        "    return ips_v4 + ips_v6"
      ]
    },
    {
      "cell_type": "code",
      "source": [
        "whitelistCloudflareIps()"
      ],
      "metadata": {
        "colab": {
          "base_uri": "https://localhost:8080/"
        },
        "id": "wWhCofLgz_nG",
        "outputId": "6cf98082-3df9-4337-dc43-a08129ae6500"
      },
      "execution_count": 4,
      "outputs": [
        {
          "output_type": "execute_result",
          "data": {
            "text/plain": [
              "['173.245.48.0/20',\n",
              " '103.21.244.0/22',\n",
              " '103.22.200.0/22',\n",
              " '103.31.4.0/22',\n",
              " '141.101.64.0/18',\n",
              " '108.162.192.0/18',\n",
              " '190.93.240.0/20',\n",
              " '188.114.96.0/20',\n",
              " '197.234.240.0/22',\n",
              " '198.41.128.0/17',\n",
              " '162.158.0.0/15',\n",
              " '104.16.0.0/13',\n",
              " '104.24.0.0/14',\n",
              " '172.64.0.0/13',\n",
              " '131.0.72.0/22',\n",
              " '2400:cb00::/32',\n",
              " '2606:4700::/32',\n",
              " '2803:f800::/32',\n",
              " '2405:b500::/32',\n",
              " '2405:8100::/32',\n",
              " '2a06:98c0::/29',\n",
              " '2c0f:f248::/32']"
            ]
          },
          "metadata": {},
          "execution_count": 4
        }
      ]
    },
    {
      "cell_type": "code",
      "source": [
        "import unittest\n",
        "import re\n",
        "\n",
        "class TestGetIpAddressesFromCloudflare(unittest.TestCase):\n",
        "\n",
        "  def test_whitelistCloudflareIpsForIpv4(self):\n",
        "    ips = getIPAddresses(\"https://www.cloudflare.com/ips-v4\")\n",
        "    self.assertTrue(len(ips)> 0)\n",
        "\n",
        "  def test_whitelistCloudflareIpsForIpv6(self):\n",
        "    ips = getIPAddresses(\"https://www.cloudflare.com/ips-v6\")\n",
        "    self.assertTrue(len(ips)> 0)\n",
        "\n",
        "  def test_whitelistCloudflareIpsForIpv4ShouldReturnValidIpRanges(self):\n",
        "    ips = getIPAddresses(\"https://www.cloudflare.com/ips-v4\")\n",
        "    self.assertTrue(len(ips)> 0)\n",
        "    for ip in ips:\n",
        "      pattern_ipv4_cidr = \"\\d+\\.\\d+\\.\\d+\\.\\d+/\\d+\"\n",
        "      result = re.fullmatch(pattern_ipv4_cidr, ip)\n",
        "      self.assertNotEqual(result, None)\n",
        "\n",
        "  def test_whitelistCloudflareIpsForIpv6ShouldReturnValidIpRanges(self):\n",
        "    ips = getIPAddresses(\"https://www.cloudflare.com/ips-v6\")\n",
        "    self.assertTrue(len(ips)> 0)\n",
        "    for ip in ips:\n",
        "      pattern_ipv6_cidr = \"(\\d|[a-f])+:(\\d|[a-f])+::/\\d+\"\n",
        "      result = re.fullmatch(pattern_ipv6_cidr, ip)\n",
        "      self.assertNotEqual(result, None)"
      ],
      "metadata": {
        "id": "b4XgAXSa7msn"
      },
      "execution_count": 5,
      "outputs": []
    },
    {
      "cell_type": "code",
      "source": [
        "if __name__ == '__main__':\n",
        "   unittest.main(argv=['first-arg-is-ignored'], exit=False)"
      ],
      "metadata": {
        "colab": {
          "base_uri": "https://localhost:8080/"
        },
        "id": "rq15q7rx7n8r",
        "outputId": "13522865-0f27-4446-d012-2093b1311485"
      },
      "execution_count": 6,
      "outputs": [
        {
          "output_type": "stream",
          "name": "stderr",
          "text": [
            "....\n",
            "----------------------------------------------------------------------\n",
            "Ran 4 tests in 0.161s\n",
            "\n",
            "OK\n"
          ]
        }
      ]
    },
    {
      "cell_type": "markdown",
      "source": [
        "# Resources\n",
        "\n",
        "Python Problems for Beginners Series\n",
        "\n",
        "https://youtube.com/playlist?list=PL3OV2Akk7XpC-fsHuJ3RLpnzOXmED7oAI"
      ],
      "metadata": {
        "id": "0fEObFec2Hy0"
      }
    }
  ]
}